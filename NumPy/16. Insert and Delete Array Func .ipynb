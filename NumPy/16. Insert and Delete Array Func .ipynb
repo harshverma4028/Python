{
 "cells": [
  {
   "cell_type": "code",
   "execution_count": 6,
   "id": "2a17da50",
   "metadata": {},
   "outputs": [
    {
     "name": "stdout",
     "output_type": "stream",
     "text": [
      "[1 2 3 4 5]\n",
      "[ 1  2 23  3  4  5]\n"
     ]
    }
   ],
   "source": [
    "import numpy as np\n",
    "\n",
    "var=np.array([1,2,3,4,5])\n",
    "\n",
    "print(var)\n",
    "\n",
    "v=np.insert(var,2,23)\n",
    "print(v)"
   ]
  },
  {
   "cell_type": "code",
   "execution_count": 11,
   "id": "c9e7d3c5",
   "metadata": {},
   "outputs": [
    {
     "name": "stdout",
     "output_type": "stream",
     "text": [
      "[[ 1  2 87  3  4]\n",
      " [ 6  7 87  8  9]]\n"
     ]
    }
   ],
   "source": [
    "var1=np.array([[1,2,3,4],[6,7,8,9]])\n",
    "# print(var1)\n",
    "\n",
    "v1=np.insert(var1,2,87,axis=1)\n",
    "print(v1)"
   ]
  },
  {
   "cell_type": "markdown",
   "id": "6d346c26",
   "metadata": {},
   "source": [
    "# Delete"
   ]
  },
  {
   "cell_type": "code",
   "execution_count": 13,
   "id": "9a4728aa",
   "metadata": {},
   "outputs": [
    {
     "name": "stdout",
     "output_type": "stream",
     "text": [
      "[1 2 3 4 5]\n",
      "\n"
     ]
    }
   ],
   "source": [
    "vard=np.array([1,2,3,4,5])\n",
    "\n",
    "print(vard)\n",
    "print()\n",
    "x2=np.delete(vard)"
   ]
  },
  {
   "cell_type": "code",
   "execution_count": null,
   "id": "d6679e77",
   "metadata": {},
   "outputs": [],
   "source": []
  }
 ],
 "metadata": {
  "kernelspec": {
   "display_name": "Python 3 (ipykernel)",
   "language": "python",
   "name": "python3"
  },
  "language_info": {
   "codemirror_mode": {
    "name": "ipython",
    "version": 3
   },
   "file_extension": ".py",
   "mimetype": "text/x-python",
   "name": "python",
   "nbconvert_exporter": "python",
   "pygments_lexer": "ipython3",
   "version": "3.11.1"
  }
 },
 "nbformat": 4,
 "nbformat_minor": 5
}
