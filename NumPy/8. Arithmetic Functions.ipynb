{
 "cells": [
  {
   "cell_type": "code",
   "execution_count": 9,
   "id": "3103d5d6",
   "metadata": {},
   "outputs": [
    {
     "name": "stdout",
     "output_type": "stream",
     "text": [
      "MIn : 2 6\n",
      "Max : 5 4\n",
      "sqrt : [2.         2.         1.73205081 2.         2.23606798 1.73205081\n",
      " 1.41421356]\n"
     ]
    }
   ],
   "source": [
    "import numpy as np\n",
    "\n",
    "var = np.array([4,4,3,4,5,3,2])\n",
    "print(\"MIn :\",np.min(var),np.argmin(var))\n",
    "print(\"Max :\",np.max(var),np.argmax(var))\n",
    "print(\"sqrt :\",np.sqrt(var))"
   ]
  },
  {
   "cell_type": "code",
   "execution_count": 7,
   "id": "a3d07728",
   "metadata": {},
   "outputs": [
    {
     "name": "stdout",
     "output_type": "stream",
     "text": [
      "[1 5]\n"
     ]
    }
   ],
   "source": [
    "var1 = np.array([[2,1,3],[9,5,6]])\n",
    "\n",
    "print(np.min(var1,axis=1))"
   ]
  },
  {
   "cell_type": "code",
   "execution_count": 12,
   "id": "cac4d205",
   "metadata": {},
   "outputs": [
    {
     "name": "stdout",
     "output_type": "stream",
     "text": [
      "[0.84147098 0.90929743 0.14112001]\n",
      "[ 0.54030231 -0.41614684 -0.9899925 ]\n",
      "[1 3 6]\n"
     ]
    }
   ],
   "source": [
    "var2 = np.array([1,2,3])\n",
    "\n",
    "print(np.sin(var2))\n",
    "print(np.cos(var2))\n",
    "print(np.cumsum(var2))"
   ]
  },
  {
   "cell_type": "code",
   "execution_count": null,
   "id": "bfe70d45",
   "metadata": {},
   "outputs": [],
   "source": []
  }
 ],
 "metadata": {
  "kernelspec": {
   "display_name": "Python 3 (ipykernel)",
   "language": "python",
   "name": "python3"
  },
  "language_info": {
   "codemirror_mode": {
    "name": "ipython",
    "version": 3
   },
   "file_extension": ".py",
   "mimetype": "text/x-python",
   "name": "python",
   "nbconvert_exporter": "python",
   "pygments_lexer": "ipython3",
   "version": "3.11.1"
  }
 },
 "nbformat": 4,
 "nbformat_minor": 5
}
