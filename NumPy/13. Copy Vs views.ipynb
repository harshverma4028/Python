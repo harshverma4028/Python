{
 "cells": [
  {
   "cell_type": "markdown",
   "id": "cfe4287c",
   "metadata": {},
   "source": [
    "#  Copy"
   ]
  },
  {
   "cell_type": "code",
   "execution_count": 7,
   "id": "1ead787a",
   "metadata": {},
   "outputs": [
    {
     "name": "stdout",
     "output_type": "stream",
     "text": [
      "the var is:  [ 1 32  3  4  5]\n",
      "the copy is :  [1 2 3 4 5]\n"
     ]
    }
   ],
   "source": [
    "import numpy as np\n",
    "\n",
    "var=np.array([1,2,3,4,5])\n",
    "\n",
    "co=var.copy()\n",
    "var[1]=32;\n",
    "\n",
    "print(\"the var is: \",var)\n",
    "print(\"the copy is : \",co)"
   ]
  },
  {
   "cell_type": "code",
   "execution_count": 6,
   "id": "ccf2d646",
   "metadata": {},
   "outputs": [
    {
     "name": "stdout",
     "output_type": "stream",
     "text": [
      "[12 21  2 23]\n"
     ]
    }
   ],
   "source": [
    "x=np.array([12,3,2,23])\n",
    "vi=x.view()\n",
    "\n",
    "\n",
    "x[1]=21;\n",
    "\n",
    "print(vi)"
   ]
  },
  {
   "cell_type": "code",
   "execution_count": null,
   "id": "b1999ae4",
   "metadata": {},
   "outputs": [],
   "source": []
  }
 ],
 "metadata": {
  "kernelspec": {
   "display_name": "Python 3 (ipykernel)",
   "language": "python",
   "name": "python3"
  },
  "language_info": {
   "codemirror_mode": {
    "name": "ipython",
    "version": 3
   },
   "file_extension": ".py",
   "mimetype": "text/x-python",
   "name": "python",
   "nbconvert_exporter": "python",
   "pygments_lexer": "ipython3",
   "version": "3.11.1"
  }
 },
 "nbformat": 4,
 "nbformat_minor": 5
}
