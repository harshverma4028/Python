{
 "cells": [
  {
   "cell_type": "markdown",
   "id": "f8bfd6c7",
   "metadata": {},
   "source": [
    "# Arithmetic Operation"
   ]
  },
  {
   "cell_type": "code",
   "execution_count": 3,
   "id": "7db91815",
   "metadata": {},
   "outputs": [
    {
     "name": "stdout",
     "output_type": "stream",
     "text": [
      "The Original value of the array : [1 2 3 4]\n",
      "[4 5 6 7]\n"
     ]
    }
   ],
   "source": [
    "import numpy as np\n",
    "\n",
    "var =np.array([1,2,3,4])\n",
    "varadd=var+3\n",
    "\n",
    "print(\"The Original value of the array :\",var)\n",
    "print(varadd)"
   ]
  },
  {
   "cell_type": "code",
   "execution_count": 4,
   "id": "f5589697",
   "metadata": {},
   "outputs": [
    {
     "name": "stdout",
     "output_type": "stream",
     "text": [
      "[2 4 6 8]\n"
     ]
    }
   ],
   "source": [
    "var1 =np.array([1,2,3,4])\n",
    "var2 =np.array([1,2,3,4])\n",
    "\n",
    "varnew=var1+var2\n",
    "print(varnew)"
   ]
  },
  {
   "cell_type": "code",
   "execution_count": 5,
   "id": "3122c8f0",
   "metadata": {},
   "outputs": [
    {
     "name": "stdout",
     "output_type": "stream",
     "text": [
      "[1 2 0 1]\n"
     ]
    }
   ],
   "source": [
    "var1 =np.array([1,2,3,4])\n",
    "\n",
    "\n",
    "varnew=var1 % 3\n",
    "print(varnew)"
   ]
  },
  {
   "cell_type": "code",
   "execution_count": 15,
   "id": "91f177ed",
   "metadata": {},
   "outputs": [
    {
     "name": "stdout",
     "output_type": "stream",
     "text": [
      "[1 0 0 0]\n"
     ]
    }
   ],
   "source": [
    "varr=np.array([1,2,3,4])\n",
    "\n",
    "\n",
    "varnewr=np.reciprocal(varr)\n",
    "print(varnewr)"
   ]
  },
  {
   "cell_type": "markdown",
   "id": "14caf468",
   "metadata": {},
   "source": [
    "# 2D Array"
   ]
  },
  {
   "cell_type": "raw",
   "id": "5e6cb223",
   "metadata": {},
   "source": []
  },
  {
   "cell_type": "code",
   "execution_count": 10,
   "id": "8bb0549d",
   "metadata": {},
   "outputs": [
    {
     "name": "stdout",
     "output_type": "stream",
     "text": [
      "[[1 2 3 4]\n",
      " [1 2 3 4]]\n",
      "\n",
      "[[1 2 3 4]\n",
      " [1 2 3 4]]\n",
      "\n",
      "\n",
      "[[ 1  4  9 16]\n",
      " [ 1  4  9 16]]\n"
     ]
    }
   ],
   "source": [
    "var21 =np.array([[1,2,3,4],[1,2,3,4]])\n",
    "var22 =np.array([[1,2,3,4],[1,2,3,4]])\n",
    "\n",
    "print(var21)\n",
    "print()\n",
    "print(var22)\n",
    "print()\n",
    "print()\n",
    "\n",
    "\n",
    "varadd = var21 * var21\n",
    "print(varadd)"
   ]
  },
  {
   "cell_type": "code",
   "execution_count": null,
   "id": "95a85bf3",
   "metadata": {},
   "outputs": [],
   "source": []
  }
 ],
 "metadata": {
  "kernelspec": {
   "display_name": "Python 3 (ipykernel)",
   "language": "python",
   "name": "python3"
  },
  "language_info": {
   "codemirror_mode": {
    "name": "ipython",
    "version": 3
   },
   "file_extension": ".py",
   "mimetype": "text/x-python",
   "name": "python",
   "nbconvert_exporter": "python",
   "pygments_lexer": "ipython3",
   "version": "3.11.1"
  }
 },
 "nbformat": 4,
 "nbformat_minor": 5
}
