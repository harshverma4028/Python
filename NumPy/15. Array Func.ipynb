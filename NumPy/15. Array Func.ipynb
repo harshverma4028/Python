{
 "cells": [
  {
   "cell_type": "markdown",
   "id": "3d280311",
   "metadata": {},
   "source": [
    "# Search\n"
   ]
  },
  {
   "cell_type": "code",
   "execution_count": 6,
   "id": "483fb990",
   "metadata": {},
   "outputs": [
    {
     "name": "stdout",
     "output_type": "stream",
     "text": [
      "(array([ 1,  3,  4,  6,  8, 10, 11], dtype=int64),)\n"
     ]
    }
   ],
   "source": [
    "import numpy as np\n",
    "\n",
    "var = np.array([1,2,3,4,2,3,4,3,4,3,2,2,9])\n",
    "\n",
    "x=np.where((var%2)==0)\n",
    "print(x)"
   ]
  },
  {
   "cell_type": "code",
   "execution_count": 7,
   "id": "2dcbc398",
   "metadata": {},
   "outputs": [
    {
     "name": "stdout",
     "output_type": "stream",
     "text": [
      "[4 4 4]\n",
      "\n",
      "[1 2 3 4 8 9]\n"
     ]
    }
   ],
   "source": [
    "var1=np.array([1,2,3,4,8,9])\n",
    "\n",
    "x1=np.searchsorted(var1,[5,6,7],side=\"left\")\n",
    "print(x1)\n",
    "\n",
    "print()\n",
    "print(var1)"
   ]
  },
  {
   "cell_type": "markdown",
   "id": "c0d76a0f",
   "metadata": {},
   "source": [
    "# Sort"
   ]
  },
  {
   "cell_type": "code",
   "execution_count": 8,
   "id": "9d251126",
   "metadata": {},
   "outputs": [
    {
     "data": {
      "text/plain": [
       "array([ 2,  3,  3,  3,  4,  4,  6,  6, 32, 39, 65])"
      ]
     },
     "execution_count": 8,
     "metadata": {},
     "output_type": "execute_result"
    }
   ],
   "source": [
    "varr=np.array([3,4,6,3,39,65,32,4,6,3,2])\n",
    "\n",
    "np.sort(varr)"
   ]
  },
  {
   "cell_type": "code",
   "execution_count": 9,
   "id": "ec658deb",
   "metadata": {},
   "outputs": [
    {
     "name": "stdout",
     "output_type": "stream",
     "text": [
      "['a' 'f']\n"
     ]
    }
   ],
   "source": [
    "var_3=np.array([\"a\",\"s\",\"d\",\"f\"])\n",
    "\n",
    "f=[True,False,False,True]\n",
    "\n",
    "new_a=var_3[f]\n",
    "\n",
    "print(new_a)"
   ]
  },
  {
   "cell_type": "markdown",
   "id": "30cd8c5e",
   "metadata": {},
   "source": [
    "# Uniqe"
   ]
  },
  {
   "cell_type": "code",
   "execution_count": 10,
   "id": "8c9e07a2",
   "metadata": {},
   "outputs": [
    {
     "name": "stdout",
     "output_type": "stream",
     "text": [
      "(array([1, 2, 3, 4, 8, 9]), array([0, 1, 2, 3, 4, 5], dtype=int64), array([1, 1, 1, 1, 1, 1], dtype=int64))\n"
     ]
    }
   ],
   "source": [
    "varu=np.array([3,4,6,3,39,65,32,4,6,3,2])\n",
    "\n",
    "unike=np.unique(var1,return_index=True,return_counts=True)\n",
    "\n",
    "print(unike)"
   ]
  },
  {
   "cell_type": "markdown",
   "id": "aed95a71",
   "metadata": {},
   "source": [
    "# Resize"
   ]
  },
  {
   "cell_type": "code",
   "execution_count": 11,
   "id": "6671552e",
   "metadata": {},
   "outputs": [
    {
     "data": {
      "text/plain": [
       "array([[ 1,  2,  3,  4],\n",
       "       [ 5,  4,  6, 64],\n",
       "       [64,  3,  4, 44],\n",
       "       [34, 32,  1,  2]])"
      ]
     },
     "execution_count": 11,
     "metadata": {},
     "output_type": "execute_result"
    }
   ],
   "source": [
    "ra=np.array([1,2,3,4,5,4,6,64,64,3,4,44,34,32])\n",
    "\n",
    "np.resize(ra,(4,4))"
   ]
  },
  {
   "cell_type": "code",
   "execution_count": 12,
   "id": "9879c13d",
   "metadata": {},
   "outputs": [
    {
     "name": "stdout",
     "output_type": "stream",
     "text": [
      "[ 1  2  3  4  5  4  6 64 64  3  4 44 34 32  1  2]\n"
     ]
    }
   ],
   "source": [
    "ra=np.array([1,2,3,4,5,4,6,64,64,3,4,44,34,32])\n",
    "\n",
    "y=np.resize(ra,(4,4))\n",
    "\n",
    "print(y.flatten())\n",
    "\n"
   ]
  },
  {
   "cell_type": "markdown",
   "id": "23903b6e",
   "metadata": {},
   "source": [
    "# Flatten"
   ]
  },
  {
   "cell_type": "code",
   "execution_count": 15,
   "id": "7dcaf266",
   "metadata": {},
   "outputs": [
    {
     "name": "stdout",
     "output_type": "stream",
     "text": [
      "flaten : [ 1  2  3  4  5  4  6 64 64  3  4 44 34 32  1  2]\n",
      "ravel : [ 1  2  3  4  5  4  6 64 64  3  4 44 34 32  1  2]\n"
     ]
    }
   ],
   "source": [
    "print(\"flaten :\",y.flatten())\n",
    "\n",
    "print(\"ravel :\",np.ravel(y,order=\"K\"))"
   ]
  },
  {
   "cell_type": "code",
   "execution_count": null,
   "id": "0405be09",
   "metadata": {},
   "outputs": [],
   "source": []
  }
 ],
 "metadata": {
  "kernelspec": {
   "display_name": "Python 3 (ipykernel)",
   "language": "python",
   "name": "python3"
  },
  "language_info": {
   "codemirror_mode": {
    "name": "ipython",
    "version": 3
   },
   "file_extension": ".py",
   "mimetype": "text/x-python",
   "name": "python",
   "nbconvert_exporter": "python",
   "pygments_lexer": "ipython3",
   "version": "3.11.1"
  }
 },
 "nbformat": 4,
 "nbformat_minor": 5
}
