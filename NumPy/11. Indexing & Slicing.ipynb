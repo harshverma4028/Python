{
 "cells": [
  {
   "cell_type": "markdown",
   "id": "e2dd4b1b",
   "metadata": {},
   "source": [
    "#  Indexing"
   ]
  },
  {
   "cell_type": "code",
   "execution_count": 3,
   "id": "7c41ef22",
   "metadata": {},
   "outputs": [
    {
     "name": "stdout",
     "output_type": "stream",
     "text": [
      "3\n"
     ]
    }
   ],
   "source": [
    "import numpy as np\n",
    "\n",
    "var=np.array([1,2,3,4,5,6,7,8])\n",
    "print(var[2])"
   ]
  },
  {
   "cell_type": "code",
   "execution_count": 8,
   "id": "8fbf8626",
   "metadata": {},
   "outputs": [
    {
     "name": "stdout",
     "output_type": "stream",
     "text": [
      "2\n",
      "\n",
      "[[1 2]\n",
      " [4 5]]\n",
      "5\n"
     ]
    }
   ],
   "source": [
    "var1=np.array([[1,2],[4,5]])\n",
    "\n",
    "print(var1.ndim)\n",
    "print()\n",
    "print(var1)\n",
    "\n",
    "print(var1[1,1])"
   ]
  },
  {
   "cell_type": "code",
   "execution_count": 13,
   "id": "135d4181",
   "metadata": {},
   "outputs": [
    {
     "name": "stdout",
     "output_type": "stream",
     "text": [
      "[[[ 1  2]\n",
      "  [24 65]]]\n",
      "\n",
      "3\n",
      "65\n"
     ]
    }
   ],
   "source": [
    "var2=np.array([[[1,2],[24,65]]])\n",
    "\n",
    "print(var2)\n",
    "print()\n",
    "print(var2.ndim)\n",
    "\n",
    "print(var2[0,1,1])"
   ]
  },
  {
   "cell_type": "markdown",
   "id": "1cb47bf3",
   "metadata": {},
   "source": [
    "#  Slicing\n"
   ]
  },
  {
   "cell_type": "code",
   "execution_count": 18,
   "id": "6f5866c2",
   "metadata": {},
   "outputs": [
    {
     "name": "stdout",
     "output_type": "stream",
     "text": [
      "[1 5]\n",
      "[1 3 5 7]\n"
     ]
    }
   ],
   "source": [
    "varr=np.array([1,2,3,4,5,6,7,8,0])\n",
    "\n",
    "print(varr[0:7:4])\n",
    "print(var[::2])"
   ]
  },
  {
   "cell_type": "code",
   "execution_count": 24,
   "id": "82c55b3d",
   "metadata": {},
   "outputs": [
    {
     "name": "stdout",
     "output_type": "stream",
     "text": [
      "[ 9 10 11 12]\n",
      "\n",
      "2\n"
     ]
    }
   ],
   "source": [
    "vrd=np.array([[1,2,3,4],[5,6,7,8],[9,10,11,12]])\n",
    "\n",
    "print(vrd[2,0:])\n",
    "print()\n",
    "print(vrd.ndim)"
   ]
  },
  {
   "cell_type": "code",
   "execution_count": null,
   "id": "b34da1de",
   "metadata": {},
   "outputs": [],
   "source": []
  }
 ],
 "metadata": {
  "kernelspec": {
   "display_name": "Python 3 (ipykernel)",
   "language": "python",
   "name": "python3"
  },
  "language_info": {
   "codemirror_mode": {
    "name": "ipython",
    "version": 3
   },
   "file_extension": ".py",
   "mimetype": "text/x-python",
   "name": "python",
   "nbconvert_exporter": "python",
   "pygments_lexer": "ipython3",
   "version": "3.11.1"
  }
 },
 "nbformat": 4,
 "nbformat_minor": 5
}
