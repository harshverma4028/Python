{
 "cells": [
  {
   "cell_type": "code",
   "execution_count": 4,
   "id": "335beacc",
   "metadata": {},
   "outputs": [
    {
     "name": "stdout",
     "output_type": "stream",
     "text": [
      "[ 1  2  3  4  5  6  7  8  9 10]\n"
     ]
    }
   ],
   "source": [
    "import numpy as np\n",
    "\n",
    "var=np.array([1,2,3,4,5])\n",
    "var1=np.array([6,7,8,9,10])\n",
    "\n",
    "ar=np.concatenate((var,var1))\n",
    "\n",
    "print(ar)"
   ]
  },
  {
   "cell_type": "code",
   "execution_count": 11,
   "id": "0a4b44fa",
   "metadata": {},
   "outputs": [
    {
     "name": "stdout",
     "output_type": "stream",
     "text": [
      "[[1 2]\n",
      " [4 5]]\n",
      "\n",
      "[[ 6  7]\n",
      " [ 9 10]]\n",
      "\n",
      "[[ 1  2  6  7]\n",
      " [ 4  5  9 10]]\n"
     ]
    }
   ],
   "source": [
    "varr=np.array([[1,2],[4,5]])\n",
    "varr1=np.array([[6,7],[9,10]])\n",
    "\n",
    "print(varr)\n",
    "print()\n",
    "print(varr1)\n",
    "print()\n",
    "\n",
    "\n",
    "arr=np.concatenate((varr,varr1),axis=1)\n",
    "print(arr)"
   ]
  },
  {
   "cell_type": "code",
   "execution_count": 15,
   "id": "d2a4939c",
   "metadata": {},
   "outputs": [
    {
     "name": "stdout",
     "output_type": "stream",
     "text": [
      "[[ 1  2  6  7]\n",
      " [ 4  5  9 10]]\n",
      "\n",
      "[[ 1  2]\n",
      " [ 4  5]\n",
      " [ 6  7]\n",
      " [ 9 10]]\n",
      "\n",
      "[[[ 1  6]\n",
      "  [ 2  7]]\n",
      "\n",
      " [[ 4  9]\n",
      "  [ 5 10]]]\n"
     ]
    }
   ],
   "source": [
    "rows=np.hstack((varr,varr1))\n",
    "print(rows)\n",
    "\n",
    "print()\n",
    "col=np.vstack((varr,varr1))\n",
    "print(col)\n",
    "print()\n",
    "\n",
    "\n",
    "dep=np.dstack((varr,varr1))\n",
    "print(dep)"
   ]
  },
  {
   "cell_type": "markdown",
   "id": "e4fc07ac",
   "metadata": {},
   "source": [
    "# Split"
   ]
  },
  {
   "cell_type": "code",
   "execution_count": 26,
   "id": "3f98471e",
   "metadata": {},
   "outputs": [
    {
     "name": "stdout",
     "output_type": "stream",
     "text": [
      "[array([1, 2]), array([3, 4]), array([5])]\n"
     ]
    }
   ],
   "source": [
    "sp=np.array([1,2,3,4,5,6,7])\n",
    "\n",
    "arrr=np.array_split(var,3)\n",
    "print(arrr)"
   ]
  },
  {
   "cell_type": "code",
   "execution_count": 24,
   "id": "c60a7934",
   "metadata": {},
   "outputs": [
    {
     "name": "stdout",
     "output_type": "stream",
     "text": [
      "[array([[1],\n",
      "       [3],\n",
      "       [5]]), array([[2],\n",
      "       [4],\n",
      "       [6]]), array([], shape=(3, 0), dtype=int32)]\n"
     ]
    }
   ],
   "source": [
    "vad=np.array([[1,2],[3,4],[5,6]])\n",
    "\n",
    "vadarr=np.array_split(vad,3,axis=1)\n",
    "print(vadarr)"
   ]
  },
  {
   "cell_type": "code",
   "execution_count": null,
   "id": "f85617b9",
   "metadata": {},
   "outputs": [],
   "source": []
  }
 ],
 "metadata": {
  "kernelspec": {
   "display_name": "Python 3 (ipykernel)",
   "language": "python",
   "name": "python3"
  },
  "language_info": {
   "codemirror_mode": {
    "name": "ipython",
    "version": 3
   },
   "file_extension": ".py",
   "mimetype": "text/x-python",
   "name": "python",
   "nbconvert_exporter": "python",
   "pygments_lexer": "ipython3",
   "version": "3.11.1"
  }
 },
 "nbformat": 4,
 "nbformat_minor": 5
}
