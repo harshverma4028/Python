{
 "cells": [
  {
   "cell_type": "markdown",
   "id": "376b45e3",
   "metadata": {},
   "source": [
    "# Data Type"
   ]
  },
  {
   "cell_type": "code",
   "execution_count": 3,
   "id": "85545f56",
   "metadata": {},
   "outputs": [
    {
     "name": "stdout",
     "output_type": "stream",
     "text": [
      "Data Typed : int32\n"
     ]
    }
   ],
   "source": [
    "import numpy as np\n",
    "\n",
    "var=np.array([1,2,3,4,5,6])\n",
    "print(\"Data Typed :\",var.dtype)"
   ]
  },
  {
   "cell_type": "code",
   "execution_count": 4,
   "id": "ed635974",
   "metadata": {},
   "outputs": [
    {
     "name": "stdout",
     "output_type": "stream",
     "text": [
      "Data Typed : <U1\n"
     ]
    }
   ],
   "source": [
    "var=np.array([\"s\",\"s\",\"z\"])\n",
    "print(\"Data Typed :\",var.dtype)"
   ]
  },
  {
   "cell_type": "code",
   "execution_count": 5,
   "id": "da7ca0bd",
   "metadata": {},
   "outputs": [
    {
     "name": "stdout",
     "output_type": "stream",
     "text": [
      "Data Typed : <U11\n"
     ]
    }
   ],
   "source": [
    "var=np.array([\"s\",\"s\",\"z\",1,3,4,5])\n",
    "print(\"Data Typed :\",var.dtype)"
   ]
  },
  {
   "cell_type": "code",
   "execution_count": 8,
   "id": "c0df6160",
   "metadata": {},
   "outputs": [
    {
     "name": "stdout",
     "output_type": "stream",
     "text": [
      "Data Type : int8\n"
     ]
    }
   ],
   "source": [
    "var=np.array([1,2,3,4,5],dtype=np.int8)\n",
    "print(\"Data Type :\",var.dtype)"
   ]
  },
  {
   "cell_type": "code",
   "execution_count": 9,
   "id": "772f2d61",
   "metadata": {},
   "outputs": [
    {
     "name": "stdout",
     "output_type": "stream",
     "text": [
      "Data Type : float32\n"
     ]
    }
   ],
   "source": [
    "va=np.array([1,2,3,4,5],dtype=\"f\")\n",
    "print(\"Data Type :\",va.dtype)"
   ]
  },
  {
   "cell_type": "markdown",
   "id": "fcd83ce2",
   "metadata": {},
   "source": [
    "# as a function"
   ]
  },
  {
   "cell_type": "code",
   "execution_count": 11,
   "id": "c3807b94",
   "metadata": {},
   "outputs": [
    {
     "name": "stdout",
     "output_type": "stream",
     "text": [
      "Data Type : int32\n",
      "Data Type : float32\n",
      "[1 2 3 4 5]\n",
      "[1. 2. 3. 4. 5.]\n"
     ]
    }
   ],
   "source": [
    "x2= np.array([1,2,3,4,5])\n",
    "\n",
    "new =np.float32(x2)\n",
    "\n",
    "print(\"Data Type :\",x2.dtype)\n",
    "print(\"Data Type :\",new.dtype)\n",
    "\n",
    "print(x2)\n",
    "print(new)"
   ]
  },
  {
   "cell_type": "code",
   "execution_count": 12,
   "id": "19d2d962",
   "metadata": {},
   "outputs": [
    {
     "name": "stdout",
     "output_type": "stream",
     "text": [
      "Data Type : int32\n",
      "Data Type : float32\n",
      "Data Type : int32\n",
      "[1 2 3 4 5]\n",
      "[1. 2. 3. 4. 5.]\n",
      "[1 2 3 4 5]\n"
     ]
    }
   ],
   "source": [
    "x2= np.array([1,2,3,4,5])\n",
    "\n",
    "new =np.float32(x2)\n",
    "new_one=np.int_(new)\n",
    "\n",
    "\n",
    "print(\"Data Type :\",x2.dtype)\n",
    "print(\"Data Type :\",new.dtype)\n",
    "print(\"Data Type :\",new_one.dtype)\n",
    "\n",
    "print(x2)\n",
    "print(new)\n",
    "print(new_one)"
   ]
  },
  {
   "cell_type": "code",
   "execution_count": 13,
   "id": "c4e8e5a9",
   "metadata": {},
   "outputs": [
    {
     "name": "stdout",
     "output_type": "stream",
     "text": [
      "[1 3 4 6]\n",
      "[1. 3. 4. 6.]\n"
     ]
    }
   ],
   "source": [
    "x3=np.array([1,3,4,6])\n",
    "\n",
    "new_1=x3.astype(float)\n",
    "\n",
    "print(x3)\n",
    "print(new_1)"
   ]
  },
  {
   "cell_type": "code",
   "execution_count": null,
   "id": "481ef88e",
   "metadata": {},
   "outputs": [],
   "source": []
  }
 ],
 "metadata": {
  "kernelspec": {
   "display_name": "Python 3 (ipykernel)",
   "language": "python",
   "name": "python3"
  },
  "language_info": {
   "codemirror_mode": {
    "name": "ipython",
    "version": 3
   },
   "file_extension": ".py",
   "mimetype": "text/x-python",
   "name": "python",
   "nbconvert_exporter": "python",
   "pygments_lexer": "ipython3",
   "version": "3.11.1"
  }
 },
 "nbformat": 4,
 "nbformat_minor": 5
}
