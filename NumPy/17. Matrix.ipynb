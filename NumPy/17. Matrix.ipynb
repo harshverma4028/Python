{
 "cells": [
  {
   "cell_type": "code",
   "execution_count": 5,
   "id": "8146eb80",
   "metadata": {},
   "outputs": [
    {
     "name": "stdout",
     "output_type": "stream",
     "text": [
      "[[3 6]\n",
      " [3 6]]\n"
     ]
    }
   ],
   "source": [
    "import numpy as np\n",
    "\n",
    "\n",
    "var=np.matrix([[1,2],[1,2]])\n",
    "var2=np.matrix([[1,2],[1,2]])\n",
    "\n",
    "\n",
    "var\n",
    "\n",
    "print(var.dot(var2))"
   ]
  },
  {
   "cell_type": "code",
   "execution_count": 6,
   "id": "f9dd8254",
   "metadata": {},
   "outputs": [
    {
     "name": "stdout",
     "output_type": "stream",
     "text": [
      "[[1 1]\n",
      " [2 2]]\n"
     ]
    }
   ],
   "source": [
    "vars=np.matrix([[1,2],[1,2]])\n",
    "print(np.swapaxes(var,0,1))"
   ]
  },
  {
   "cell_type": "markdown",
   "id": "45d0731f",
   "metadata": {},
   "source": [
    "# Inverse"
   ]
  },
  {
   "cell_type": "code",
   "execution_count": 10,
   "id": "4779a5e4",
   "metadata": {},
   "outputs": [
    {
     "name": "stdout",
     "output_type": "stream",
     "text": [
      "[[-0.05882353  0.11764706]\n",
      " [ 0.26470588 -0.02941176]]\n"
     ]
    }
   ],
   "source": [
    "var3=np.matrix([[1,4],[9,2]])\n",
    "print(np.linalg.inv(var3))"
   ]
  },
  {
   "cell_type": "markdown",
   "id": "324f45f2",
   "metadata": {},
   "source": [
    "# Power"
   ]
  },
  {
   "cell_type": "code",
   "execution_count": 21,
   "id": "e80d6e42",
   "metadata": {},
   "outputs": [
    {
     "name": "stdout",
     "output_type": "stream",
     "text": [
      "[[84 60]\n",
      " [30 24]]\n"
     ]
    }
   ],
   "source": [
    "varp=np.matrix([[4,2],[1,2]])\n",
    "\n",
    "print(np.linalg.matrix_power(varp,3))"
   ]
  },
  {
   "cell_type": "markdown",
   "id": "c4e8a5ba",
   "metadata": {},
   "source": [
    "# Determinate"
   ]
  },
  {
   "cell_type": "code",
   "execution_count": 23,
   "id": "f865f2eb",
   "metadata": {},
   "outputs": [
    {
     "name": "stdout",
     "output_type": "stream",
     "text": [
      "6.0\n"
     ]
    }
   ],
   "source": [
    "varpd=np.matrix([[4,2,3],[1,2,3],[1,2,4]])\n",
    "\n",
    "print(np.linalg.det(varpd))"
   ]
  },
  {
   "cell_type": "code",
   "execution_count": null,
   "id": "0b589e6f",
   "metadata": {},
   "outputs": [],
   "source": []
  }
 ],
 "metadata": {
  "kernelspec": {
   "display_name": "Python 3 (ipykernel)",
   "language": "python",
   "name": "python3"
  },
  "language_info": {
   "codemirror_mode": {
    "name": "ipython",
    "version": 3
   },
   "file_extension": ".py",
   "mimetype": "text/x-python",
   "name": "python",
   "nbconvert_exporter": "python",
   "pygments_lexer": "ipython3",
   "version": "3.11.1"
  }
 },
 "nbformat": 4,
 "nbformat_minor": 5
}
