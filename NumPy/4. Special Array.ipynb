{
 "cells": [
  {
   "cell_type": "markdown",
   "id": "cdb719d4",
   "metadata": {},
   "source": [
    "#  1. Zero"
   ]
  },
  {
   "cell_type": "code",
   "execution_count": 7,
   "id": "fd807325",
   "metadata": {},
   "outputs": [
    {
     "name": "stdout",
     "output_type": "stream",
     "text": [
      "[[0. 0. 0. 0.]\n",
      " [0. 0. 0. 0.]\n",
      " [0. 0. 0. 0.]]\n",
      "\n",
      "[0. 0. 0. 0.]\n"
     ]
    }
   ],
   "source": [
    "import numpy as np\n",
    "\n",
    "ar_zero=np.zeros(4)\n",
    "ar_zero2=np.zeros((3,4))\n",
    "\n",
    "print(ar_zero2)\n",
    "print()\n",
    "print(ar_zero)"
   ]
  },
  {
   "cell_type": "markdown",
   "id": "cb5d0c77",
   "metadata": {},
   "source": [
    "# Ones"
   ]
  },
  {
   "cell_type": "code",
   "execution_count": 12,
   "id": "9e4c271f",
   "metadata": {},
   "outputs": [
    {
     "name": "stdout",
     "output_type": "stream",
     "text": [
      "[1. 1. 1. 1. 1.]\n",
      "\n",
      "[[1. 1. 1. 1. 1. 1.]\n",
      " [1. 1. 1. 1. 1. 1.]\n",
      " [1. 1. 1. 1. 1. 1.]\n",
      " [1. 1. 1. 1. 1. 1.]\n",
      " [1. 1. 1. 1. 1. 1.]]\n"
     ]
    }
   ],
   "source": [
    "ar_one=np.ones(5)\n",
    "print(ar_one)\n",
    "\n",
    "print()\n",
    "\n",
    "\n",
    "\n",
    "ar_one5=np.ones((5,6))\n",
    "print(ar_one5)"
   ]
  },
  {
   "cell_type": "markdown",
   "id": "8e026d8a",
   "metadata": {},
   "source": [
    "# Empty"
   ]
  },
  {
   "cell_type": "code",
   "execution_count": 13,
   "id": "cbedb53a",
   "metadata": {},
   "outputs": [
    {
     "name": "stdout",
     "output_type": "stream",
     "text": [
      "[1. 1. 1. 1. 1.]\n"
     ]
    }
   ],
   "source": [
    "ar_em=np.empty(5)\n",
    "print(ar_em)"
   ]
  },
  {
   "cell_type": "markdown",
   "id": "c9356e87",
   "metadata": {},
   "source": [
    "# Range"
   ]
  },
  {
   "cell_type": "code",
   "execution_count": 18,
   "id": "c133e79b",
   "metadata": {},
   "outputs": [
    {
     "name": "stdout",
     "output_type": "stream",
     "text": [
      "[ 0  1  2  3  4  5  6  7  8  9 10 11 12 13 14 15 16 17 18 19 20 21 22 23\n",
      " 24 25 26 27 28 29 30 31 32 33 34 35 36 37 38 39 40 41 42]\n"
     ]
    }
   ],
   "source": [
    "ar_ra=np.arange(43)\n",
    "print(ar_ra)\n",
    "\n",
    "\n"
   ]
  },
  {
   "cell_type": "markdown",
   "id": "800f3cea",
   "metadata": {},
   "source": [
    "# Diagonal Eye"
   ]
  },
  {
   "cell_type": "code",
   "execution_count": 20,
   "id": "460f225c",
   "metadata": {},
   "outputs": [
    {
     "name": "stdout",
     "output_type": "stream",
     "text": [
      "[[1. 0. 0.]\n",
      " [0. 1. 0.]\n",
      " [0. 0. 1.]]\n"
     ]
    }
   ],
   "source": [
    "ar_ey=np.eye(3)\n",
    "print(ar_ey)"
   ]
  },
  {
   "cell_type": "code",
   "execution_count": 21,
   "id": "28b25d62",
   "metadata": {},
   "outputs": [
    {
     "name": "stdout",
     "output_type": "stream",
     "text": [
      "[[1. 0. 0. 0. 0.]\n",
      " [0. 1. 0. 0. 0.]\n",
      " [0. 0. 1. 0. 0.]\n",
      " [0. 0. 0. 1. 0.]\n",
      " [0. 0. 0. 0. 1.]]\n"
     ]
    }
   ],
   "source": [
    "ar_eye=np.eye(5,5)\n",
    "print(ar_eye)"
   ]
  },
  {
   "cell_type": "markdown",
   "id": "30b5326c",
   "metadata": {},
   "source": [
    "# LineSpace"
   ]
  },
  {
   "cell_type": "code",
   "execution_count": 23,
   "id": "63c7a38f",
   "metadata": {},
   "outputs": [
    {
     "name": "stdout",
     "output_type": "stream",
     "text": [
      "[ 0.  5. 10. 15. 20.]\n"
     ]
    }
   ],
   "source": [
    "ar_lin=np.linspace(0,20,num=5)\n",
    "print(ar_lin)"
   ]
  },
  {
   "cell_type": "code",
   "execution_count": null,
   "id": "d8d371b1",
   "metadata": {},
   "outputs": [],
   "source": []
  }
 ],
 "metadata": {
  "kernelspec": {
   "display_name": "Python 3 (ipykernel)",
   "language": "python",
   "name": "python3"
  },
  "language_info": {
   "codemirror_mode": {
    "name": "ipython",
    "version": 3
   },
   "file_extension": ".py",
   "mimetype": "text/x-python",
   "name": "python",
   "nbconvert_exporter": "python",
   "pygments_lexer": "ipython3",
   "version": "3.11.1"
  }
 },
 "nbformat": 4,
 "nbformat_minor": 5
}
