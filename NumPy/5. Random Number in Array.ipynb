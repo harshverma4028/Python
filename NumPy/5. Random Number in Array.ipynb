{
 "cells": [
  {
   "cell_type": "markdown",
   "id": "8185b0f8",
   "metadata": {},
   "source": [
    "# rand()"
   ]
  },
  {
   "cell_type": "code",
   "execution_count": 6,
   "id": "3c7f0d81",
   "metadata": {},
   "outputs": [
    {
     "name": "stdout",
     "output_type": "stream",
     "text": [
      "[0.04819352 0.94438344 0.89521468 0.58730649 0.48712134]\n"
     ]
    }
   ],
   "source": [
    "import numpy as np\n",
    "\n",
    "var=np.random.rand(5)\n",
    "print(var)"
   ]
  },
  {
   "cell_type": "code",
   "execution_count": 8,
   "id": "c8d6bee4",
   "metadata": {},
   "outputs": [
    {
     "data": {
      "text/plain": [
       "array([[0.77182762, 0.12064246, 0.69892788, 0.89601884, 0.07412753],\n",
       "       [0.01705399, 0.8467503 , 0.59999674, 0.52680791, 0.8439932 ]])"
      ]
     },
     "execution_count": 8,
     "metadata": {},
     "output_type": "execute_result"
    }
   ],
   "source": [
    "var1=np.random.rand(2,5)\n",
    "var1"
   ]
  },
  {
   "cell_type": "markdown",
   "id": "17be6081",
   "metadata": {},
   "source": [
    "# randf()"
   ]
  },
  {
   "cell_type": "code",
   "execution_count": 10,
   "id": "dc2bc1e1",
   "metadata": {},
   "outputs": [
    {
     "data": {
      "text/plain": [
       "array([0.99551813, 0.90059537, 0.43929321, 0.59122508, 0.73007257])"
      ]
     },
     "execution_count": 10,
     "metadata": {},
     "output_type": "execute_result"
    }
   ],
   "source": [
    "var2=np.random.ranf(5)\n",
    "var2"
   ]
  },
  {
   "cell_type": "markdown",
   "id": "dfd1e29f",
   "metadata": {},
   "source": [
    "# randn()"
   ]
  },
  {
   "cell_type": "code",
   "execution_count": 11,
   "id": "56ba3e09",
   "metadata": {},
   "outputs": [
    {
     "data": {
      "text/plain": [
       "array([ 0.69607785,  1.93555726,  1.27616764,  0.71860861, -1.01366261])"
      ]
     },
     "execution_count": 11,
     "metadata": {},
     "output_type": "execute_result"
    }
   ],
   "source": [
    "var3=np.random.randn(5)\n",
    "var3"
   ]
  },
  {
   "cell_type": "markdown",
   "id": "ad6fefd2",
   "metadata": {},
   "source": [
    "# randint()"
   ]
  },
  {
   "cell_type": "code",
   "execution_count": 12,
   "id": "685510e6",
   "metadata": {},
   "outputs": [
    {
     "data": {
      "text/plain": [
       "array([14, 17, 11,  8, 19])"
      ]
     },
     "execution_count": 12,
     "metadata": {},
     "output_type": "execute_result"
    }
   ],
   "source": [
    "var4=np.random.randint(2,20,5)\n",
    "var4"
   ]
  },
  {
   "cell_type": "code",
   "execution_count": null,
   "id": "9e50a0fe",
   "metadata": {},
   "outputs": [],
   "source": []
  }
 ],
 "metadata": {
  "kernelspec": {
   "display_name": "Python 3 (ipykernel)",
   "language": "python",
   "name": "python3"
  },
  "language_info": {
   "codemirror_mode": {
    "name": "ipython",
    "version": 3
   },
   "file_extension": ".py",
   "mimetype": "text/x-python",
   "name": "python",
   "nbconvert_exporter": "python",
   "pygments_lexer": "ipython3",
   "version": "3.11.1"
  }
 },
 "nbformat": 4,
 "nbformat_minor": 5
}
